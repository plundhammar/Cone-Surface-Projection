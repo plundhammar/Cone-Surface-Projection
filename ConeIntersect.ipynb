{
 "cells": [
  {
   "cell_type": "markdown",
   "id": "aecef3ba-a4ba-4c3c-98da-7132ea4833a5",
   "metadata": {},
   "source": [
    "#### Cone Intersect"
   ]
  },
  {
   "cell_type": "code",
   "execution_count": 50,
   "id": "d0d1e49d-c361-4323-8a89-dd2b24df8ab0",
   "metadata": {},
   "outputs": [],
   "source": [
    "import numpy as np\n",
    "import matplotlib.pyplot as plt\n",
    "from scipy import ndimage\n",
    "from multiprocessing import Pool"
   ]
  },
  {
   "cell_type": "markdown",
   "id": "ba24a345-0e0e-4b14-a9fc-c9512c7a8f04",
   "metadata": {},
   "source": [
    "One helper function: \n",
    "\n",
    "From a 3D index $[i,j,k]$ with $i,j,k\\in[0,\\dots,N-1]$ we can form a bijective 1D index \n",
    "$$\n",
    "\\varphi([i,j,k]) = i + N \\cdot (j + N \\cdot k).\n",
    "$$\n",
    "\n",
    "For instance, consider a $3\\times 3 \\times 3$ cube with index $\\{[i,j,k]|i,j,k\\in [0,1,2]\\}$ then \n",
    "\n",
    "$$\n",
    "\\varphi([i,j,k]) = i+3\\cdot j + 9\\cdot k\n",
    "$$\n",
    "\n",
    "| $\\varphi([i,j,k])$ | $i$ | $j$ | $k$| $|$ $\\varphi([i,j,k])$ | $i$ | $j$ | $k$|\n",
    "| ----------- | ----------- |----|-----| -- | -- |-- |-- |\n",
    "|0|0|0|0|14|2|1|1|\n",
    "|1|1|0|0|15|0|2|1|\n",
    "|2|2|0|0|16|1|2|1|\n",
    "|3|0|1|0|17|2|2|1|\n",
    "|4|1|1|0|18|0|2|2|\n",
    "|5|2|1|0|19|1|2|2|\n",
    "|6|0|2|0|20|2|2|2|\n",
    "|7|1|2|0|21|0|2|2|\n",
    "|8|2|2|0|22|1|2|2|\n",
    "|9|0|0|1|23|2|2|2|\n",
    "|10|1|0|1|24|0|2|2|\n",
    "|11|2|0|1|25|1|2|2|\n",
    "|12|0|1|1|26|2|2|2|\n",
    "|13|1|1|1|\n",
    "\n",
    "\n",
    "\n",
    "the inverse is obtained through the algoritm \n",
    "\n",
    "$$\n",
    "\\begin{aligned}\n",
    "\\varphi^{-1}(n) &:\\\\\n",
    "k &= \\text{floor}\\left\\{\\frac{n}{N^2}\\right\\}\\\\\n",
    "    n &\\leftarrow n-k\\cdot N^2\\\\\n",
    "    j &= \\text{floor}\\left(\\frac{n}{N}\\right)\\\\\n",
    "    i &\\equiv n ~~\\text{mod}~~N\\\\\n",
    "    \\Longrightarrow &[i,j,k]\n",
    "\\end{aligned}\n",
    "$$\n",
    "\n",
    "For instance considering the case anove for $N=3$ and $n=10$ we have \n",
    "$$\n",
    "\\begin{aligned}\n",
    "\\varphi^{-1}(10) &:\\\\\n",
    "k &= \\text{floor}\\left\\{\\frac{10}{3^2}\\right\\}=1\\\\\n",
    "    n &\\leftarrow 10-1\\cdot 3^2=1\\\\\n",
    "    j &= \\text{floor}\\left(\\frac{1}{10}\\right)=0\\\\\n",
    "    i &\\equiv 1 ~~\\text{mod}~~10 = 1\\\\\n",
    "    \\Longrightarrow& [1,0,1]\n",
    "\\end{aligned}\n",
    "$$"
   ]
  },
  {
   "cell_type": "code",
   "execution_count": 52,
   "id": "a57523ea-86cd-4851-90b7-30fa59a6ccfa",
   "metadata": {},
   "outputs": [],
   "source": [
    "def to1D(coordinates,dimensions):\n",
    "  x,y,z=coordinates\n",
    "  xMax,yMax,zMax=dimensions\n",
    "  return (z * xMax * yMax) + (y * xMax) + x\n",
    "\n",
    "def to3D(index,dimensions):\n",
    "    xMax,yMax,zMax=dimensions\n",
    "    z = index // (xMax * yMax)\n",
    "    index -= (z * xMax * yMax)\n",
    "    y = index // xMax\n",
    "    x = index % xMax\n",
    "    return x, y, z "
   ]
  },
  {
   "cell_type": "code",
   "execution_count": 5,
   "id": "be9886f6-3ad3-416c-8a01-3139a7651594",
   "metadata": {},
   "outputs": [
    {
     "name": "stdout",
     "output_type": "stream",
     "text": [
      "phi | i,j,k\n",
      "0    [0, 0, 0]\n",
      "1    [1, 0, 0]\n",
      "2    [2, 0, 0]\n",
      "3    [0, 1, 0]\n",
      "4    [1, 1, 0]\n",
      "5    [2, 1, 0]\n",
      "6    [0, 2, 0]\n",
      "7    [1, 2, 0]\n",
      "8    [2, 2, 0]\n",
      "9    [0, 0, 1]\n",
      "10    [1, 0, 1]\n",
      "11    [2, 0, 1]\n",
      "12    [0, 1, 1]\n",
      "13    [1, 1, 1]\n",
      "14    [2, 1, 1]\n",
      "15    [0, 2, 1]\n",
      "16    [1, 2, 1]\n",
      "17    [2, 2, 1]\n",
      "18    [0, 0, 2]\n",
      "19    [1, 0, 2]\n",
      "20    [2, 0, 2]\n",
      "21    [0, 1, 2]\n",
      "22    [1, 1, 2]\n",
      "23    [2, 1, 2]\n",
      "24    [0, 2, 2]\n",
      "25    [1, 2, 2]\n",
      "26    [2, 2, 2]\n",
      "n| phi^-1\n",
      "0     [0, 0, 0]\n",
      "1     [1, 0, 0]\n",
      "2     [2, 0, 0]\n",
      "3     [0, 1, 0]\n",
      "4     [1, 1, 0]\n",
      "5     [2, 1, 0]\n",
      "6     [0, 2, 0]\n",
      "7     [1, 2, 0]\n",
      "8     [2, 2, 0]\n",
      "9     [0, 0, 1]\n",
      "10     [1, 0, 1]\n",
      "11     [2, 0, 1]\n",
      "12     [0, 1, 1]\n",
      "13     [1, 1, 1]\n",
      "14     [2, 1, 1]\n",
      "15     [0, 2, 1]\n",
      "16     [1, 2, 1]\n",
      "17     [2, 2, 1]\n",
      "18     [0, 0, 2]\n",
      "19     [1, 0, 2]\n",
      "20     [2, 0, 2]\n",
      "21     [0, 1, 2]\n",
      "22     [1, 1, 2]\n",
      "23     [2, 1, 2]\n",
      "24     [0, 2, 2]\n",
      "25     [1, 2, 2]\n",
      "26     [2, 2, 2]\n"
     ]
    }
   ],
   "source": [
    "dimensions = [3,3,3]\n",
    "xMax,yMax,zMax=dimensions\n",
    "coordinates = [[i,j,k] for k in range(xMax) for j in range(yMax) for i in range(zMax)]\n",
    "phi = []\n",
    "print(\"phi | i,j,k\")\n",
    "for coord in coordinates: \n",
    "    n = to1D(coord,dimensions)\n",
    "    print(n,\"  \",coord)\n",
    "    phi.append(n)\n",
    "\n",
    "print(\"n| phi^-1\")\n",
    "for n in phi:\n",
    "    i,j,k = to3D(n,dimensions)\n",
    "    print(n,\"   \",[i,j,k])"
   ]
  },
  {
   "cell_type": "markdown",
   "id": "9c69c5f0-8372-49a8-ade3-529c3f13d316",
   "metadata": {},
   "source": [
    "We first define a computational domain that specifies the extent of the volume in which to reconstruct the intensity distribution and discretizes this volume into voxels. First, lets create a discretized world."
   ]
  },
  {
   "cell_type": "code",
   "execution_count": 29,
   "id": "783d5a39-0448-46fc-b982-0691b6ed19ce",
   "metadata": {},
   "outputs": [],
   "source": [
    "dim = [150,150,150]\n",
    "side_length = 80\n",
    "dX,dY,dZ = dim\n",
    "positions_world = [(np.array([(i+0.5)/dX,(j+0.5)/dY,(k+0.5)/dZ]))*side_length-side_length/2 * np.array([1,1,0])\n",
    "                   for k in range(dX) for j in range(dY) for i in range(dZ)]"
   ]
  },
  {
   "cell_type": "markdown",
   "id": "81f1783f-304a-43ab-8972-e8b524c02037",
   "metadata": {},
   "source": [
    "Noticed that I've put voxel $v_0$ in the corner $(-49.5,-49.5,0)$ and the last voxel $v_{99999}$ in the upper corner $(49.5,49.5,99.5)$. All in the center of the voxels.\n",
    "\n",
    "Now, lets put a cube with sidelengths $10$ and center at $(0,0,50)$ in to the world."
   ]
  },
  {
   "cell_type": "code",
   "execution_count": 30,
   "id": "4b05cd4e-0dc4-4b62-ba67-607ac908e0ca",
   "metadata": {},
   "outputs": [],
   "source": [
    "def square_phantom(r0,l,dim,positions):\n",
    "    '''\n",
    "    Parameters: \n",
    "        r0 is the center of the sphere relative to origin which is assumed to be in the middle.\n",
    "        l the sidelength of the square\n",
    "        N is the number of voxels along one dimension, it is the same for the remaining two. \n",
    "    Returns: \n",
    "        numpy.array with shape (N,N,N) with 0 or 1 in each element. 1 if that voxel is contained within the sphere, 0 otherwise.\n",
    "    '''\n",
    "    dX,dY,dX = dim\n",
    "    out = np.zeros((dX,dY,dZ))\n",
    "    \n",
    "    for i in range(dX):\n",
    "        for j in range(dY):\n",
    "            for k in range(dZ):\n",
    "                n = to1D([i,j,k],dim)\n",
    "                [x,y,z] = positions[n]\n",
    "                x = -x\n",
    "                if np.abs(x-r0[0])**2+np.abs(y-r0[1])**2 + np.abs(z-r0[2])**2 <l**2:\n",
    "                    out[i][j][k] = 1\n",
    "\n",
    "    return out"
   ]
  },
  {
   "cell_type": "code",
   "execution_count": 54,
   "id": "33afd04c-29b6-4563-b9a3-7524b1da83e3",
   "metadata": {},
   "outputs": [],
   "source": [
    "r0 = [-10,0,10]\n",
    "l = 10\n",
    "world = square_phantom(r0,l,dim,positions_world)\n"
   ]
  },
  {
   "cell_type": "code",
   "execution_count": 55,
   "id": "73167afa-8eb1-45e0-bc50-adc6440f4fa3",
   "metadata": {},
   "outputs": [
    {
     "name": "stdout",
     "output_type": "stream",
     "text": [
      "75 111\n",
      "56 93\n",
      "17 55\n"
     ]
    }
   ],
   "source": [
    "\n",
    "pixel_length = side_length/dim[0]\n",
    "\n",
    "z_height = int(r0[2]/pixel_length)\n",
    "pixel_cube_Z_start = int( z_height - 1)\n",
    "pixel_cube_Z_end = int( z_height -1 + 2*l/pixel_length + 1)\n",
    "\n",
    "slice = np.array(world[:,:,int( (pixel_cube_Z_end-pixel_cube_Z_start)/2 )])\n",
    "\n",
    "indices = np.where(slice == 1)\n",
    "pixel_cube_X_start = min(indices[0])\n",
    "pixel_cube_X_end = max(indices[0])\n",
    "pixel_cube_Y_start = min(indices[1])\n",
    "pixel_cube_Y_end = max(indices[1])\n",
    "\n",
    "\n",
    "\n",
    "\n",
    "print(pixel_cube_X_start,pixel_cube_X_end)\n",
    "print(pixel_cube_Y_start,pixel_cube_Y_end)\n",
    "print(pixel_cube_Z_start,pixel_cube_Z_end)"
   ]
  },
  {
   "cell_type": "code",
   "execution_count": 56,
   "id": "68208bb3-30d0-42ba-bd3d-aa792005934b",
   "metadata": {},
   "outputs": [
    {
     "data": {
      "text/plain": [
       "<matplotlib.image.AxesImage at 0x7f32ebbc8d40>"
      ]
     },
     "execution_count": 56,
     "metadata": {},
     "output_type": "execute_result"
    },
    {
     "data": {
      "image/png": "[encoded data removed]",
      "text/plain": [
       "<Figure size 800x800 with 1 Axes>"
      ]
     },
     "metadata": {},
     "output_type": "display_data"
    }
   ],
   "source": [
    "image = slice\n",
    "fig, ax1 = plt.subplots(1, 1, figsize=(8, 8))\n",
    "ax1.set_xlabel(\"y\")\n",
    "ax1.set_ylabel(\"x\")\n",
    "ax1.set_title(\"Slice\")\n",
    "ax1.imshow(\n",
    "    image,\n",
    "    cmap=plt.cm.Greys_r,\n",
    "    aspect='auto'#,\n",
    "    #extent =[-49.5,49.5, -49.5, 49.5]\n",
    ")\n",
    "\n"
   ]
  },
  {
   "cell_type": "code",
   "execution_count": 57,
   "id": "a7be46b1-01f6-4184-8e4c-07fb142bea9c",
   "metadata": {},
   "outputs": [
    {
     "data": {
      "text/plain": [
       "<matplotlib.image.AxesImage at 0x7f32ec453500>"
      ]
     },
     "execution_count": 57,
     "metadata": {},
     "output_type": "execute_result"
    },
    {
     "data": {
      "image/png": "[encoded data removed]",
      "text/plain": [
       "<Figure size 800x800 with 1 Axes>"
      ]
     },
     "metadata": {},
     "output_type": "display_data"
    }
   ],
   "source": [
    "img_rot = (ndimage.rotate(image, 90,reshape = False))**2\n",
    "img_rot[img_rot>0.5] = 1\n",
    "img_rot[img_rot<0.5] = 0\n",
    "fig, ax1 = plt.subplots(1, 1, figsize=(8, 8))\n",
    "ax1.set_xlabel(\"y\")\n",
    "ax1.set_ylabel(\"x\")\n",
    "ax1.set_title(\"Slice\")\n",
    "ax1.imshow(\n",
    "    img_rot,\n",
    "    cmap=plt.cm.Greys_r,\n",
    "    aspect='auto',\n",
    "    extent =[-49.5,49.5, -49.5, 49.5]\n",
    ")"
   ]
  },
  {
   "cell_type": "markdown",
   "id": "feb64686-9f1b-4c0d-8d50-256df103c055",
   "metadata": {},
   "source": [
    "Above is a slice at the center of the cube parallell to the $xy$-plane."
   ]
  },
  {
   "cell_type": "markdown",
   "id": "7607aa45-05f5-440e-954f-4108fb32c979",
   "metadata": {},
   "source": [
    "## Cone projections\n",
    "Consider now a cone, defined by an axis $\\beta$, half-angle $\\phi$, and position $\\mathbf{r}_s$. Let $\\beta=[0,0,1]$ and $\\phi=\\pi/4$ and $\\mathbf{r}_s$ be on a grid of square $11\\times 1$ 'detectors' on the $x$-axis evenly spaced."
   ]
  },
  {
   "cell_type": "code",
   "execution_count": 62,
   "id": "6b18b8c8-d414-4c71-8cc1-d692b3d9aaeb",
   "metadata": {},
   "outputs": [],
   "source": [
    "beta = np.array([0,0,1])\n",
    "phi = np.pi/4\n",
    "num_det = 11\n",
    "rs = [(-side_length/2)*np.array([1,0,0]) + np.array([i,0,0])*(side_length)/(num_det-1) for i in range(num_det)]\n"
   ]
  },
  {
   "cell_type": "markdown",
   "id": "827372be-29d6-4428-808b-4654ec8adf62",
   "metadata": {},
   "source": [
    "No define the zero-level set function:"
   ]
  },
  {
   "cell_type": "code",
   "execution_count": 64,
   "id": "3a8e5724-f871-47f3-97a8-9cc87f2d13c4",
   "metadata": {},
   "outputs": [],
   "source": [
    "def g(x,r,beta,phi):\n",
    "    v = x-r\n",
    "    norm_v = np.linalg.norm(v)\n",
    "    return np.sign(np.dot(v/norm_v,beta)-np.cos(phi))"
   ]
  },
  {
   "cell_type": "markdown",
   "id": "7dfeea26-6056-4066-9ab3-4868a0a19a62",
   "metadata": {},
   "source": [
    "Now, the indicator function can be constructed."
   ]
  },
  {
   "cell_type": "code",
   "execution_count": 66,
   "id": "737acefe-81cf-4f66-a154-ed72d3cd395c",
   "metadata": {},
   "outputs": [],
   "source": [
    "def I(vj,r,beta,phi,side_length,dim):\n",
    "    dx,dy,dz = np.array([side_length/dim[0],side_length/dim[1],side_length/dim[2]])\n",
    "    #Corners\n",
    "\n",
    "    w1 = g(vj + np.array([dx,dy,dz]),r,beta,phi)\n",
    "    w2 = g(vj + np.array([-dx,dy,dz]),r,beta,phi)\n",
    "    w3 = g(vj + np.array([dx,-dy,dz]),r,beta,phi)\n",
    "    w4 = g(vj + np.array([-dx,-dy,dz]),r,beta,phi)\n",
    "    w5 = g(vj + np.array([dx,dy,-dz]),r,beta,phi)\n",
    "    w6 = g(vj + np.array([-dx,dy,-dz]),r,beta,phi)\n",
    "    w7 = g(vj + np.array([dx,-dy,-dz]),r,beta,phi)\n",
    "    w8 = g(vj + np.array([-dx,-dy,-dz]),r,beta,phi)\n",
    "\n",
    "    return (np.abs(w1+w2+w3+w4+w5+w6+w7+w8) == \\\n",
    "                np.abs(w1)+np.abs(w2)+np.abs(w3)+np.abs(w4)+np.abs(w5)+np.abs(w6)+np.abs(w7)+np.abs(w8))\n",
    "    \n",
    "    "
   ]
  },
  {
   "cell_type": "code",
   "execution_count": null,
   "id": "51739d63-b5c1-4a53-83f8-807867a50518",
   "metadata": {},
   "outputs": [
    {
     "name": "stdout",
     "output_type": "stream",
     "text": [
      "0.0\n"
     ]
    }
   ],
   "source": [
    "\n",
    "thetas = np.linspace(0,180,10,endpoint=False)\n",
    "sinogram = np.zeros((len(thetas),len(rs)))\n",
    "\n",
    "for i_theta, theta in enumerate(thetas):\n",
    "\n",
    "    cone_surface_projection = np.zeros(len(rs))\n",
    "    \n",
    "    for index_r,r_i in enumerate(rs):\n",
    "        #print(index_r)\n",
    "        \n",
    "        for k in range(pixel_cube_Z_start-3,pixel_cube_Z_end+3):\n",
    "            plane = world[:,:,k]\n",
    "            world_plane_theta = ndimage.rotate(plane, theta,reshape = False)\n",
    "            world_plane_theta[world_plane_theta>0.5] = 1\n",
    "            world_plane_theta[world_plane_theta<0.5] = 0\n",
    "            for i in range(pixel_cube_X_start,pixel_cube_X_end):\n",
    "                for j in range(pixel_cube_Y_start,pixel_cube_Y_end):\n",
    "                    n = to1D([i,j,k],dim)\n",
    "                    [x,y,z] = positions_world[n]\n",
    "                    x = -x\n",
    "                    pos = np.array([x,y,z])\n",
    "                    if I(pos,r_i,beta,phi,side_length,dim):\n",
    "                        cone_surface_projection[index_r] += world_plane_theta[i,j]\n",
    "        sinogram[i_theta,:] = cone_surface_projection\n",
    "    print(i_theta/len(thetas+ index_r/num_det/10))\n",
    "\n",
    "\n"
   ]
  },
  {
   "cell_type": "code",
   "execution_count": 68,
   "id": "e73d9157-73bd-4c15-bd02-53c5877ff6cb",
   "metadata": {},
   "outputs": [],
   "source": [
    "\n",
    "def cone_surface_proj(theta):\n",
    "    cone_surface_projection = np.zeros(len(rs))\n",
    "    \n",
    "    for index_r,r_i in enumerate(rs):\n",
    "        #print(index_r)\n",
    "        \n",
    "        for k in range(pixel_cube_Z_start-3,pixel_cube_Z_end+3):\n",
    "            plane = world[:,:,k]\n",
    "            world_plane_theta = ndimage.rotate(plane, theta,reshape = False)\n",
    "            world_plane_theta[world_plane_theta>0.5] = 1\n",
    "            world_plane_theta[world_plane_theta<0.5] = 0\n",
    "            for i in range(pixel_cube_X_start,pixel_cube_X_end):\n",
    "                for j in range(pixel_cube_Y_start,pixel_cube_Y_end):\n",
    "                    n = to1D([i,j,k],dim)\n",
    "                    [x,y,z] = positions_world[n]\n",
    "                    x = -x\n",
    "                    pos = np.array([x,y,z])\n",
    "                    if I(pos,r_i,beta,phi,side_length,dim):\n",
    "                        cone_surface_projection[index_r] += world_plane_theta[i,j]\n",
    "    return cone_surface_projection\n"
   ]
  },
  {
   "cell_type": "code",
   "execution_count": 44,
   "id": "18754b1a-6b57-4be3-8052-9ddc7e2a035d",
   "metadata": {},
   "outputs": [
    {
     "ename": "NameError",
     "evalue": "name 'sinogram' is not defined",
     "output_type": "error",
     "traceback": [
      "\u001b[0;31m---------------------------------------------------------------------------\u001b[0m",
      "\u001b[0;31mNameError\u001b[0m                                 Traceback (most recent call last)",
      "Cell \u001b[0;32mIn[44], line 6\u001b[0m\n\u001b[1;32m      3\u001b[0m ax1\u001b[38;5;241m.\u001b[39mset_ylabel(\u001b[38;5;124m\"\u001b[39m\u001b[38;5;124mx\u001b[39m\u001b[38;5;124m\"\u001b[39m)\n\u001b[1;32m      4\u001b[0m ax1\u001b[38;5;241m.\u001b[39mset_title(\u001b[38;5;124m\"\u001b[39m\u001b[38;5;124mSlice\u001b[39m\u001b[38;5;124m\"\u001b[39m)\n\u001b[1;32m      5\u001b[0m ax1\u001b[38;5;241m.\u001b[39mimshow(\n\u001b[0;32m----> 6\u001b[0m     sinogram,\n\u001b[1;32m      7\u001b[0m     cmap\u001b[38;5;241m=\u001b[39mplt\u001b[38;5;241m.\u001b[39mcm\u001b[38;5;241m.\u001b[39mGreys_r,\n\u001b[1;32m      8\u001b[0m     aspect\u001b[38;5;241m=\u001b[39m\u001b[38;5;124m'\u001b[39m\u001b[38;5;124mauto\u001b[39m\u001b[38;5;124m'\u001b[39m\n\u001b[1;32m      9\u001b[0m )\n",
      "\u001b[0;31mNameError\u001b[0m: name 'sinogram' is not defined"
     ]
    },
    {
     "data": {
      "image/png": "[encoded data removed]",
      "text/plain": [
       "<Figure size 1200x400 with 3 Axes>"
      ]
     },
     "metadata": {},
     "output_type": "display_data"
    }
   ],
   "source": [
    "\n",
    "fig, (ax1,ax2,ax3) = plt.subplots(1, 3, figsize=(12,4 ))\n",
    "ax1.set_xlabel(\"y\")\n",
    "ax1.set_ylabel(\"x\")\n",
    "ax1.set_title(\"Slice\")\n",
    "ax1.imshow(\n",
    "    sinogram,\n",
    "    cmap=plt.cm.Greys_r,\n",
    "    aspect='auto'\n",
    ")"
   ]
  },
  {
   "cell_type": "code",
   "execution_count": null,
   "id": "5c4a7149-b1c8-4971-9d06-95d56169fc78",
   "metadata": {},
   "outputs": [],
   "source": [
    "if __name__ == \"__main__\":\n",
    "    thetas = np.linspace(0,180,10,endpoint=False)\n",
    "    with Pool() as pool:\n",
    "      result = pool.map(cone_surface_proj, thetas)"
   ]
  },
  {
   "cell_type": "code",
   "execution_count": null,
   "id": "35a1b095-25d8-4819-a01e-69bbf938178a",
   "metadata": {},
   "outputs": [],
   "source": [
    "result.shape"
   ]
  }
 ],
 "metadata": {
  "kernelspec": {
   "display_name": "Python 3 (ipykernel)",
   "language": "python",
   "name": "python3"
  },
  "language_info": {
   "codemirror_mode": {
    "name": "ipython",
    "version": 3
   },
   "file_extension": ".py",
   "mimetype": "text/x-python",
   "name": "python",
   "nbconvert_exporter": "python",
   "pygments_lexer": "ipython3",
   "version": "3.12.4"
  }
 },
 "nbformat": 4,
 "nbformat_minor": 5
}
