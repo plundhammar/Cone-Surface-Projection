{
 "cells": [
  {
   "cell_type": "code",
   "execution_count": 1,
   "id": "8e9bc489-bd58-43a2-9bf4-3dff37c141cd",
   "metadata": {},
   "outputs": [],
   "source": [
    "import multiprocessing as mp\n",
    "import numpy as np\n",
    "from coneSurfaceProjection import *\n",
    "import matplotlib.pyplot as plt\n",
    "from skimage.transform import radon, rescale"
   ]
  },
  {
   "cell_type": "code",
   "execution_count": 2,
   "id": "6ad7f993-a840-42f5-a03c-eabc625c24ce",
   "metadata": {},
   "outputs": [],
   "source": [
    "dim = [50,50,10]\n",
    "r = 10\n",
    "r0 = [5,5,r]\n",
    "lengthDim = [60,60,2*r]\n",
    "beta = np.array([0,1,0])\n",
    "beta = beta/np.sqrt(np.dot(beta,beta))\n",
    "phi = np.pi/4\n",
    "numDet = 15\n",
    "posDet = [ -np.array([0,lengthDim[1]/2,0])+np.array([0,0,r0[2]])+np.array([i,0,0])*lengthDim[0]/(numDet-1) -np.array([1,0,0])*lengthDim[0]/2 for i in range(numDet)] \n"
   ]
  },
  {
   "cell_type": "code",
   "execution_count": 3,
   "id": "433b3686-2333-4dd9-a23d-c192960c05bf",
   "metadata": {},
   "outputs": [],
   "source": [
    "space = detectorSpace(dim,lengthDim,r0,r,beta,phi,numDet,posDet)"
   ]
  },
  {
   "cell_type": "code",
   "execution_count": 4,
   "id": "5336352d-0f99-4702-86cd-6c1608381fd5",
   "metadata": {},
   "outputs": [],
   "source": [
    "space.initiateSpherePhantom(r0,r)\n",
    "space.buildMaskMatrix()"
   ]
  },
  {
   "cell_type": "code",
   "execution_count": null,
   "id": "67a70204-b8c9-4e49-af43-dd74005b047a",
   "metadata": {},
   "outputs": [],
   "source": [
    "inputValues = np.linspace(0,180,180,endpoint=False)\n",
    "coneSinogram = space.getConeSurfaceProjections(inputValues)"
   ]
  },
  {
   "cell_type": "code",
   "execution_count": null,
   "id": "b147c2f4-3347-49c6-bc02-89a99059e52f",
   "metadata": {},
   "outputs": [],
   "source": [
    "indices = np.where(space.maskMatrix == 1)\n",
    "\n",
    "zIndices = indices[2]\n",
    "zMiddle = int((max(zIndices)+min(zIndices))/2)\n",
    "print(zMiddle)\n",
    "projectionSinogram = np.array(radon(space.maskMatrix[:,:,zMiddle], theta=inputValues)).T"
   ]
  },
  {
   "cell_type": "code",
   "execution_count": null,
   "id": "48c29040-af9b-4411-b92a-cde28e530343",
   "metadata": {},
   "outputs": [],
   "source": [
    "\n",
    "fig, (ax1,ax2,ax3) = plt.subplots(1, 3, figsize=(16, 8))\n",
    "\n",
    "image = space.maskMatrix[:,:,zMiddle]\n",
    "\n",
    "ax1.set_ylabel(\"y\")\n",
    "ax1.set_xlabel(\"x\")\n",
    "ax1.set_title(\"Slice\")\n",
    "ax1.imshow(\n",
    "    image,\n",
    "    cmap=plt.cm.Greys_r,\n",
    "    aspect='auto'#\n",
    ")\n",
    "\n",
    "image = projectionSinogram\n",
    "ax2.set_ylabel(r\"\\theta\")\n",
    "ax2.set_xlabel(r\"Detector\")\n",
    "ax2.set_title(\"Projected Sinogram\")\n",
    "ax2.imshow(\n",
    "    image,\n",
    "    cmap=plt.cm.Greys_r,\n",
    "    aspect='auto'#\n",
    ")\n",
    "image = coneSinogram\n",
    "ax3.set_ylabel(r\"\\theta\")\n",
    "ax3.set_xlabel(r\"Detector\")\n",
    "ax3.set_title(\"Cone-Surface Sinogram\")\n",
    "ax3.imshow(\n",
    "    image,\n",
    "    cmap=plt.cm.Greys_r,\n",
    "    aspect='auto'#\n",
    ")\n"
   ]
  }
 ],
 "metadata": {
  "kernelspec": {
   "display_name": "Python 3 (ipykernel)",
   "language": "python",
   "name": "python3"
  },
  "language_info": {
   "codemirror_mode": {
    "name": "ipython",
    "version": 3
   },
   "file_extension": ".py",
   "mimetype": "text/x-python",
   "name": "python",
   "nbconvert_exporter": "python",
   "pygments_lexer": "ipython3",
   "version": "3.12.4"
  }
 },
 "nbformat": 4,
 "nbformat_minor": 5
}
